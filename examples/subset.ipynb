{
 "cells": [
  {
   "cell_type": "code",
   "execution_count": 1,
   "metadata": {
    "collapsed": true,
    "ExecuteTime": {
     "end_time": "2023-09-25T10:55:02.158058Z",
     "start_time": "2023-09-25T10:55:02.150152Z"
    }
   },
   "outputs": [],
   "source": [
    "from ffselect.subset import MinSubsetSelection"
   ]
  },
  {
   "cell_type": "code",
   "execution_count": 2,
   "outputs": [],
   "source": [
    "import pandas as pd\n",
    "import numpy as np\n",
    "from sklearn.linear_model import LinearRegression\n",
    "from sklearn.preprocessing import StandardScaler, PolynomialFeatures\n",
    "from sklearn.model_selection import train_test_split\n",
    "from sklearn.metrics import mean_absolute_error as MAE"
   ],
   "metadata": {
    "collapsed": false,
    "ExecuteTime": {
     "end_time": "2023-09-25T10:55:03.015688Z",
     "start_time": "2023-09-25T10:55:02.156504Z"
    }
   }
  },
  {
   "cell_type": "markdown",
   "source": [
    "This is the example usage of `MinSubsetSelection` function to remove redundant features. It may be useful for removing multiple polynomial features, where simple feature subset selection algorithms fail due to extremely large numbers of features. `MinSubsetSelection` algorithm has $\\mathcal{O}(n \\log{n})$ complexity.\n",
    "\n",
    "Warning: this algorithm can be applied only if\n",
    "\n",
    "$\\text{loss}(f(x_1, ..., x_{i-1}, x_{i+1}, ..., x_n)) \\le \\text{loss}(f(x_1, ..., x_{i-1}, x_i, x_{i+1}, ..., x_n)) \\forall x_i \\text{ - redundant}$\n",
    "\n",
    "Current dataframe contains completely random data (no distribution)"
   ],
   "metadata": {
    "collapsed": false
   }
  },
  {
   "cell_type": "code",
   "execution_count": 3,
   "outputs": [],
   "source": [
    "df = pd.DataFrame([[12, 32, 2, 45, 32, 12], [19, 2, 84, 12, 45, 21], [83, 12, 56, 45, 12, 45], [54, 234, 653, 213, 34, 657], [43, 45, 76, 12, 56, 21], [76, 23, 76, 34, 76, 87]], columns=['A', 'B', 'C', 'D', 'E', 'target'])"
   ],
   "metadata": {
    "collapsed": false,
    "ExecuteTime": {
     "end_time": "2023-09-25T10:55:03.018728Z",
     "start_time": "2023-09-25T10:55:03.017132Z"
    }
   }
  },
  {
   "cell_type": "code",
   "execution_count": 4,
   "outputs": [
    {
     "data": {
      "text/plain": "    A    B    C    D   E  target\n0  12   32    2   45  32      12\n1  19    2   84   12  45      21\n2  83   12   56   45  12      45\n3  54  234  653  213  34     657\n4  43   45   76   12  56      21\n5  76   23   76   34  76      87",
      "text/html": "<div>\n<style scoped>\n    .dataframe tbody tr th:only-of-type {\n        vertical-align: middle;\n    }\n\n    .dataframe tbody tr th {\n        vertical-align: top;\n    }\n\n    .dataframe thead th {\n        text-align: right;\n    }\n</style>\n<table border=\"1\" class=\"dataframe\">\n  <thead>\n    <tr style=\"text-align: right;\">\n      <th></th>\n      <th>A</th>\n      <th>B</th>\n      <th>C</th>\n      <th>D</th>\n      <th>E</th>\n      <th>target</th>\n    </tr>\n  </thead>\n  <tbody>\n    <tr>\n      <th>0</th>\n      <td>12</td>\n      <td>32</td>\n      <td>2</td>\n      <td>45</td>\n      <td>32</td>\n      <td>12</td>\n    </tr>\n    <tr>\n      <th>1</th>\n      <td>19</td>\n      <td>2</td>\n      <td>84</td>\n      <td>12</td>\n      <td>45</td>\n      <td>21</td>\n    </tr>\n    <tr>\n      <th>2</th>\n      <td>83</td>\n      <td>12</td>\n      <td>56</td>\n      <td>45</td>\n      <td>12</td>\n      <td>45</td>\n    </tr>\n    <tr>\n      <th>3</th>\n      <td>54</td>\n      <td>234</td>\n      <td>653</td>\n      <td>213</td>\n      <td>34</td>\n      <td>657</td>\n    </tr>\n    <tr>\n      <th>4</th>\n      <td>43</td>\n      <td>45</td>\n      <td>76</td>\n      <td>12</td>\n      <td>56</td>\n      <td>21</td>\n    </tr>\n    <tr>\n      <th>5</th>\n      <td>76</td>\n      <td>23</td>\n      <td>76</td>\n      <td>34</td>\n      <td>76</td>\n      <td>87</td>\n    </tr>\n  </tbody>\n</table>\n</div>"
     },
     "execution_count": 4,
     "metadata": {},
     "output_type": "execute_result"
    }
   ],
   "source": [
    "df"
   ],
   "metadata": {
    "collapsed": false,
    "ExecuteTime": {
     "end_time": "2023-09-25T10:55:03.024973Z",
     "start_time": "2023-09-25T10:55:03.020849Z"
    }
   }
  },
  {
   "cell_type": "code",
   "execution_count": 5,
   "outputs": [],
   "source": [
    "# Split DataFrame into 2 train and test\n",
    "df_train_pre, df_test_pre = train_test_split(df, test_size=0.3, random_state=32)\n",
    "\n",
    "y_train = np.asarray(df_train_pre['target'])\n",
    "y_test = np.asarray(df_test_pre['target'])\n",
    "\n",
    "# Filter out features columns ['A', 'B', 'C', 'D', 'E']\n",
    "x_features = df_train_pre.drop(columns='target').columns.values\n",
    "\n",
    "# Scale features to X~N(0,1)\n",
    "norm = StandardScaler()\n",
    "df_train_pre[x_features] = norm.fit_transform(df_train_pre[x_features])\n",
    "df_test_pre[x_features] = norm.transform(df_test_pre[x_features])\n",
    "\n",
    "# Add polynomial features\n",
    "poly = PolynomialFeatures(degree=2)\n",
    "X_train = poly.fit_transform(df_train_pre[x_features])\n",
    "X_test = poly.transform(df_test_pre[x_features])\n",
    "poly_features = poly.get_feature_names_out(x_features)\n",
    "\n",
    "# Creating resulting dataframes\n",
    "df_train = pd.DataFrame(X_train, columns=poly_features)\n",
    "df_test = pd.DataFrame(X_test, columns=poly_features)\n",
    "df_train['target'] = y_train\n",
    "df_test['target'] = y_test"
   ],
   "metadata": {
    "collapsed": false,
    "ExecuteTime": {
     "end_time": "2023-09-25T10:55:03.034346Z",
     "start_time": "2023-09-25T10:55:03.030104Z"
    }
   }
  },
  {
   "cell_type": "code",
   "execution_count": 6,
   "outputs": [
    {
     "data": {
      "text/plain": "     1         A         B         C         D         E       A^2       A B  \\\n0  1.0 -1.416950 -0.546180 -0.735452 -0.429000 -0.096275  2.007746  0.773909   \n1  1.0  1.377590 -0.770254 -0.531527 -0.429000 -1.379936  1.897754 -1.061094   \n2  1.0 -0.196799 -0.400532 -0.455999 -0.848466  1.444119  0.038730  0.078824   \n3  1.0  0.236158  1.716966  1.722978  1.706465  0.032092  0.055771  0.405476   \n\n        A C       A D  ...       B C       B D       B E       C^2       C D  \\\n0  1.042098  0.607871  ...  0.401689  0.234311  0.052583  0.540890  0.315509   \n1 -0.732226 -0.590986  ...  0.409411  0.330439  1.062901  0.282521  0.228025   \n2  0.089740  0.166977  ...  0.182642  0.339838 -0.578416  0.207935  0.386900   \n3  0.406896  0.402996  ...  2.958294  2.929942  0.055100  2.968654  2.940203   \n\n        C E       D^2       D E       E^2  target  \n0  0.070805  0.184041  0.041302  0.009269      12  \n1  0.733473  0.184041  0.591992  1.904222      45  \n2 -0.658517  0.719895 -1.225286  2.085479      21  \n3  0.055293  2.912024  0.054763  0.001030     657  \n\n[4 rows x 22 columns]",
      "text/html": "<div>\n<style scoped>\n    .dataframe tbody tr th:only-of-type {\n        vertical-align: middle;\n    }\n\n    .dataframe tbody tr th {\n        vertical-align: top;\n    }\n\n    .dataframe thead th {\n        text-align: right;\n    }\n</style>\n<table border=\"1\" class=\"dataframe\">\n  <thead>\n    <tr style=\"text-align: right;\">\n      <th></th>\n      <th>1</th>\n      <th>A</th>\n      <th>B</th>\n      <th>C</th>\n      <th>D</th>\n      <th>E</th>\n      <th>A^2</th>\n      <th>A B</th>\n      <th>A C</th>\n      <th>A D</th>\n      <th>...</th>\n      <th>B C</th>\n      <th>B D</th>\n      <th>B E</th>\n      <th>C^2</th>\n      <th>C D</th>\n      <th>C E</th>\n      <th>D^2</th>\n      <th>D E</th>\n      <th>E^2</th>\n      <th>target</th>\n    </tr>\n  </thead>\n  <tbody>\n    <tr>\n      <th>0</th>\n      <td>1.0</td>\n      <td>-1.416950</td>\n      <td>-0.546180</td>\n      <td>-0.735452</td>\n      <td>-0.429000</td>\n      <td>-0.096275</td>\n      <td>2.007746</td>\n      <td>0.773909</td>\n      <td>1.042098</td>\n      <td>0.607871</td>\n      <td>...</td>\n      <td>0.401689</td>\n      <td>0.234311</td>\n      <td>0.052583</td>\n      <td>0.540890</td>\n      <td>0.315509</td>\n      <td>0.070805</td>\n      <td>0.184041</td>\n      <td>0.041302</td>\n      <td>0.009269</td>\n      <td>12</td>\n    </tr>\n    <tr>\n      <th>1</th>\n      <td>1.0</td>\n      <td>1.377590</td>\n      <td>-0.770254</td>\n      <td>-0.531527</td>\n      <td>-0.429000</td>\n      <td>-1.379936</td>\n      <td>1.897754</td>\n      <td>-1.061094</td>\n      <td>-0.732226</td>\n      <td>-0.590986</td>\n      <td>...</td>\n      <td>0.409411</td>\n      <td>0.330439</td>\n      <td>1.062901</td>\n      <td>0.282521</td>\n      <td>0.228025</td>\n      <td>0.733473</td>\n      <td>0.184041</td>\n      <td>0.591992</td>\n      <td>1.904222</td>\n      <td>45</td>\n    </tr>\n    <tr>\n      <th>2</th>\n      <td>1.0</td>\n      <td>-0.196799</td>\n      <td>-0.400532</td>\n      <td>-0.455999</td>\n      <td>-0.848466</td>\n      <td>1.444119</td>\n      <td>0.038730</td>\n      <td>0.078824</td>\n      <td>0.089740</td>\n      <td>0.166977</td>\n      <td>...</td>\n      <td>0.182642</td>\n      <td>0.339838</td>\n      <td>-0.578416</td>\n      <td>0.207935</td>\n      <td>0.386900</td>\n      <td>-0.658517</td>\n      <td>0.719895</td>\n      <td>-1.225286</td>\n      <td>2.085479</td>\n      <td>21</td>\n    </tr>\n    <tr>\n      <th>3</th>\n      <td>1.0</td>\n      <td>0.236158</td>\n      <td>1.716966</td>\n      <td>1.722978</td>\n      <td>1.706465</td>\n      <td>0.032092</td>\n      <td>0.055771</td>\n      <td>0.405476</td>\n      <td>0.406896</td>\n      <td>0.402996</td>\n      <td>...</td>\n      <td>2.958294</td>\n      <td>2.929942</td>\n      <td>0.055100</td>\n      <td>2.968654</td>\n      <td>2.940203</td>\n      <td>0.055293</td>\n      <td>2.912024</td>\n      <td>0.054763</td>\n      <td>0.001030</td>\n      <td>657</td>\n    </tr>\n  </tbody>\n</table>\n<p>4 rows × 22 columns</p>\n</div>"
     },
     "execution_count": 6,
     "metadata": {},
     "output_type": "execute_result"
    }
   ],
   "source": [
    "df_train"
   ],
   "metadata": {
    "collapsed": false,
    "ExecuteTime": {
     "end_time": "2023-09-25T10:55:03.108480Z",
     "start_time": "2023-09-25T10:55:03.038676Z"
    }
   }
  },
  {
   "cell_type": "code",
   "execution_count": 7,
   "outputs": [
    {
     "data": {
      "text/plain": "     1         A         B         C         D         E       A^2       A B  \\\n0  1.0  1.102072 -0.647013 -0.455999 -0.568822  2.727780  1.214562 -0.713055   \n1  1.0 -1.141432 -0.882291 -0.425788 -0.848466  0.738105  1.302866  1.007074   \n\n        A C       A D  ...       B C       B D       B E       C^2       C D  \\\n0 -0.502544 -0.626882  ...  0.295037  0.368035 -1.764909  0.207935  0.259382   \n1  0.486008  0.968466  ...  0.375669  0.748594 -0.651223  0.181295  0.361267   \n\n        C E       D^2       D E       E^2  target  \n0 -1.243865  0.323558 -1.551621  7.440783      87  \n1 -0.314276  0.719895 -0.626257  0.544799      21  \n\n[2 rows x 22 columns]",
      "text/html": "<div>\n<style scoped>\n    .dataframe tbody tr th:only-of-type {\n        vertical-align: middle;\n    }\n\n    .dataframe tbody tr th {\n        vertical-align: top;\n    }\n\n    .dataframe thead th {\n        text-align: right;\n    }\n</style>\n<table border=\"1\" class=\"dataframe\">\n  <thead>\n    <tr style=\"text-align: right;\">\n      <th></th>\n      <th>1</th>\n      <th>A</th>\n      <th>B</th>\n      <th>C</th>\n      <th>D</th>\n      <th>E</th>\n      <th>A^2</th>\n      <th>A B</th>\n      <th>A C</th>\n      <th>A D</th>\n      <th>...</th>\n      <th>B C</th>\n      <th>B D</th>\n      <th>B E</th>\n      <th>C^2</th>\n      <th>C D</th>\n      <th>C E</th>\n      <th>D^2</th>\n      <th>D E</th>\n      <th>E^2</th>\n      <th>target</th>\n    </tr>\n  </thead>\n  <tbody>\n    <tr>\n      <th>0</th>\n      <td>1.0</td>\n      <td>1.102072</td>\n      <td>-0.647013</td>\n      <td>-0.455999</td>\n      <td>-0.568822</td>\n      <td>2.727780</td>\n      <td>1.214562</td>\n      <td>-0.713055</td>\n      <td>-0.502544</td>\n      <td>-0.626882</td>\n      <td>...</td>\n      <td>0.295037</td>\n      <td>0.368035</td>\n      <td>-1.764909</td>\n      <td>0.207935</td>\n      <td>0.259382</td>\n      <td>-1.243865</td>\n      <td>0.323558</td>\n      <td>-1.551621</td>\n      <td>7.440783</td>\n      <td>87</td>\n    </tr>\n    <tr>\n      <th>1</th>\n      <td>1.0</td>\n      <td>-1.141432</td>\n      <td>-0.882291</td>\n      <td>-0.425788</td>\n      <td>-0.848466</td>\n      <td>0.738105</td>\n      <td>1.302866</td>\n      <td>1.007074</td>\n      <td>0.486008</td>\n      <td>0.968466</td>\n      <td>...</td>\n      <td>0.375669</td>\n      <td>0.748594</td>\n      <td>-0.651223</td>\n      <td>0.181295</td>\n      <td>0.361267</td>\n      <td>-0.314276</td>\n      <td>0.719895</td>\n      <td>-0.626257</td>\n      <td>0.544799</td>\n      <td>21</td>\n    </tr>\n  </tbody>\n</table>\n<p>2 rows × 22 columns</p>\n</div>"
     },
     "execution_count": 7,
     "metadata": {},
     "output_type": "execute_result"
    }
   ],
   "source": [
    "df_test"
   ],
   "metadata": {
    "collapsed": false,
    "ExecuteTime": {
     "end_time": "2023-09-25T10:55:03.138551Z",
     "start_time": "2023-09-25T10:55:03.101497Z"
    }
   }
  },
  {
   "cell_type": "code",
   "execution_count": 8,
   "outputs": [],
   "source": [
    "def fit_regression(data: tuple[pd.DataFrame, pd.DataFrame], features: list[str], target: str) -> float:\n",
    "    \"\"\"\n",
    "    Fit the regression over the dummy model\n",
    "    :param data: Input data, (df_train, df_test)\n",
    "    :param features: Features to fit\n",
    "    :param target: Target column name\n",
    "    :return: MAE loss\n",
    "    \"\"\"\n",
    "    x_train, y_train = data[0][features], data[0][target]\n",
    "    x_test, y_test = data[1][features], data[1][target]\n",
    "\n",
    "    reg = LinearRegression().fit(x_train, y_train)\n",
    "\n",
    "    return MAE(y_test, reg.predict(x_test))\n"
   ],
   "metadata": {
    "collapsed": false,
    "ExecuteTime": {
     "end_time": "2023-09-25T10:55:03.138709Z",
     "start_time": "2023-09-25T10:55:03.101807Z"
    }
   }
  },
  {
   "cell_type": "code",
   "execution_count": 9,
   "outputs": [],
   "source": [
    "# Get DataFrame features\n",
    "columns = list(df_train.drop(columns='target').columns.values)"
   ],
   "metadata": {
    "collapsed": false,
    "ExecuteTime": {
     "end_time": "2023-09-25T10:55:03.138753Z",
     "start_time": "2023-09-25T10:55:03.101861Z"
    }
   }
  },
  {
   "cell_type": "code",
   "execution_count": 10,
   "outputs": [
    {
     "name": "stdout",
     "output_type": "stream",
     "text": [
      "[1/21]: feature: E^2, loss: 66.680162 -> 42.558103 (-24.122058)\n",
      "[2/21]: feature: A^2, loss: 42.558103 -> 31.291051 (-11.267052)\n",
      "[3/21]: feature: D^2, loss: 31.291051 -> 14.483662 (-16.807389)\n",
      "[4/21]: feature: C, loss: 14.483662 -> 6.833877 (-7.649785)\n",
      "[5/21]: feature: E, loss: 6.833877 -> 6.201756 (-0.632121)\n",
      "[6/21]: feature: D E, loss: 6.201756 -> 3.203635 (-2.998121)\n",
      "[7/21]: feature: B E, loss: 3.203635 -> 1.548838 (-1.654796)\n",
      "[8/21]: feature: A D, loss: 1.548838 -> 1.474965 (-0.073873)\n",
      "[9/21]: feature: 1, loss: 1.474965 -> 1.474965 (-0.000000)\n"
     ]
    }
   ],
   "source": [
    "min_mae, features = MinSubsetSelection(data=(df_train, df_test), target='target', fit_function=fit_regression, features=columns)"
   ],
   "metadata": {
    "collapsed": false,
    "ExecuteTime": {
     "end_time": "2023-09-25T10:55:03.277530Z",
     "start_time": "2023-09-25T10:55:03.101929Z"
    }
   }
  },
  {
   "cell_type": "code",
   "execution_count": 11,
   "outputs": [
    {
     "data": {
      "text/plain": "{'1', 'A D', 'A^2', 'B E', 'C', 'D E', 'D^2', 'E', 'E^2'}"
     },
     "execution_count": 11,
     "metadata": {},
     "output_type": "execute_result"
    }
   ],
   "source": [
    "# Dropped features\n",
    "set(columns) - set(features)"
   ],
   "metadata": {
    "collapsed": false,
    "ExecuteTime": {
     "end_time": "2023-09-25T10:55:03.277762Z",
     "start_time": "2023-09-25T10:55:03.272356Z"
    }
   }
  }
 ],
 "metadata": {
  "kernelspec": {
   "display_name": "Python 3",
   "language": "python",
   "name": "python3"
  },
  "language_info": {
   "codemirror_mode": {
    "name": "ipython",
    "version": 2
   },
   "file_extension": ".py",
   "mimetype": "text/x-python",
   "name": "python",
   "nbconvert_exporter": "python",
   "pygments_lexer": "ipython2",
   "version": "2.7.6"
  }
 },
 "nbformat": 4,
 "nbformat_minor": 0
}
